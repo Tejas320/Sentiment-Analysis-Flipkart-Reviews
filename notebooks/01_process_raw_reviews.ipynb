{
 "cells": [
  {
   "cell_type": "code",
   "execution_count": null,
   "metadata": {},
   "outputs": [],
   "source": [
    "import pandas as pd\n"
   ]
  },
  {
   "cell_type": "code",
   "execution_count": null,
   "metadata": {},
   "outputs": [],
   "source": [
    "df = pd.read_csv(\"../data/reviews_raw.csv\", encoding=\"utf-8\", header=None)\n",
    "df.columns = [\"title\", \"text\", \"rating\", \"category\", \"product_name\", \"product_link\"]\n",
    "\n",
    "print(f\"No. of reviews: {df.shape[0]}\")\n",
    "df.head(5)\n"
   ]
  },
  {
   "cell_type": "code",
   "execution_count": null,
   "metadata": {},
   "outputs": [],
   "source": [
    "df_dedup = df.drop_duplicates().loc[:, [\"title\", \"text\", \"rating\"]]\n",
    "\n",
    "print(f\"No. of reviews: {df_dedup.shape[0]}\")\n",
    "df_dedup.head(5)\n"
   ]
  },
  {
   "cell_type": "code",
   "execution_count": null,
   "metadata": {},
   "outputs": [],
   "source": [
    "df_dedup.to_csv(\"../data/router_reviews.csv\")\n"
   ]
  }
 ],
 "metadata": {
  "kernelspec": {
   "display_name": ".venv",
   "language": "python",
   "name": "python3"
  },
  "language_info": {
   "codemirror_mode": {
    "name": "ipython",
    "version": 3
   },
   "file_extension": ".py",
   "mimetype": "text/x-python",
   "name": "python",
   "nbconvert_exporter": "python",
   "pygments_lexer": "ipython3",
   "version": "3.11.4"
  },
  "orig_nbformat": 4
 },
 "nbformat": 4,
 "nbformat_minor": 2
}
